{
 "cells": [
  {
   "cell_type": "code",
   "execution_count": 1,
   "id": "ed700c0f-0a84-4e64-9842-8d1556265948",
   "metadata": {},
   "outputs": [],
   "source": [
    "from typing import List\n",
    "import numpy as np\n",
    "import matplotlib.pyplot as plt"
   ]
  },
  {
   "cell_type": "code",
   "execution_count": 2,
   "id": "041b7b28-ba6f-4b4b-96ad-3194fe1d4d1b",
   "metadata": {},
   "outputs": [],
   "source": [
    "from toy_text_adventure import find_the_keys\n",
    "from simplest_q_learner import q_learner"
   ]
  },
  {
   "cell_type": "markdown",
   "id": "f11d916b-f81d-4a6e-b4ed-326c18d79a49",
   "metadata": {},
   "source": [
    "## test the game"
   ]
  },
  {
   "cell_type": "code",
   "execution_count": 3,
   "id": "1e55f7b4-48cd-4cf7-85c9-e16614f741cc",
   "metadata": {},
   "outputs": [],
   "source": [
    "game = find_the_keys()"
   ]
  },
  {
   "cell_type": "code",
   "execution_count": 4,
   "id": "065717bf-cc4b-4eb6-ad0f-0ce28c70c9ac",
   "metadata": {},
   "outputs": [
    {
     "data": {
      "text/plain": [
       "('look around',\n",
       " 0,\n",
       " [('go left',\n",
       "   0,\n",
       "   [('climb tree', 0, []),\n",
       "    ('search floor', 0, [('lift stone', 0, []), ('lift leaf', 0, [])])]),\n",
       "  ('go straight',\n",
       "   0,\n",
       "   [('enter house',\n",
       "     0,\n",
       "     [('check cupboard', 1, []), ('check wardrobe', 0, [])])]),\n",
       "  ('go right',\n",
       "   0,\n",
       "   [('check bike', 0, []),\n",
       "    ('check mailbox',\n",
       "     0,\n",
       "     [('open first letter', 0, []),\n",
       "      ('open second letter', 0, []),\n",
       "      ('open third letter', 0, [])])])])"
      ]
     },
     "execution_count": 4,
     "metadata": {},
     "output_type": "execute_result"
    }
   ],
   "source": [
    "game._get_state()"
   ]
  },
  {
   "cell_type": "code",
   "execution_count": 5,
   "id": "f3796b36-6426-4102-9b1c-7dfd90b4f57f",
   "metadata": {},
   "outputs": [
    {
     "data": {
      "text/plain": [
       "'look around'"
      ]
     },
     "execution_count": 5,
     "metadata": {},
     "output_type": "execute_result"
    }
   ],
   "source": [
    "game.get_description()"
   ]
  },
  {
   "cell_type": "code",
   "execution_count": 6,
   "id": "8d6a2643-d12b-4986-b0dd-e344338b82fb",
   "metadata": {},
   "outputs": [
    {
     "data": {
      "text/plain": [
       "0"
      ]
     },
     "execution_count": 6,
     "metadata": {},
     "output_type": "execute_result"
    }
   ],
   "source": [
    "game.get_reward()"
   ]
  },
  {
   "cell_type": "code",
   "execution_count": 7,
   "id": "2e544ea7-b84d-4c77-93b0-b3fe39e71456",
   "metadata": {},
   "outputs": [
    {
     "data": {
      "text/plain": [
       "['go left', 'go straight', 'go right', 'go back']"
      ]
     },
     "execution_count": 7,
     "metadata": {},
     "output_type": "execute_result"
    }
   ],
   "source": [
    "game.get_actions()"
   ]
  },
  {
   "cell_type": "code",
   "execution_count": 8,
   "id": "d88e9212-df51-4adf-a4b6-6fd5dbe9682a",
   "metadata": {},
   "outputs": [
    {
     "data": {
      "text/plain": [
       "'done'"
      ]
     },
     "execution_count": 8,
     "metadata": {},
     "output_type": "execute_result"
    }
   ],
   "source": [
    "game.do('go left')"
   ]
  },
  {
   "cell_type": "code",
   "execution_count": 9,
   "id": "28ef97e1-46e2-44ab-aa40-fbf8e936e444",
   "metadata": {},
   "outputs": [
    {
     "data": {
      "text/plain": [
       "['climb tree', 'search floor', 'go back']"
      ]
     },
     "execution_count": 9,
     "metadata": {},
     "output_type": "execute_result"
    }
   ],
   "source": [
    "game.get_actions()"
   ]
  },
  {
   "cell_type": "code",
   "execution_count": 10,
   "id": "b854335d-a31a-4c3c-ba15-ffea8f9c9dda",
   "metadata": {},
   "outputs": [
    {
     "data": {
      "text/plain": [
       "'done'"
      ]
     },
     "execution_count": 10,
     "metadata": {},
     "output_type": "execute_result"
    }
   ],
   "source": [
    "game.do('go back')"
   ]
  },
  {
   "cell_type": "code",
   "execution_count": 11,
   "id": "e73f656b-96f4-4e74-8477-8d324bf6d3ee",
   "metadata": {},
   "outputs": [
    {
     "data": {
      "text/plain": [
       "['go left', 'go straight', 'go right', 'go back']"
      ]
     },
     "execution_count": 11,
     "metadata": {},
     "output_type": "execute_result"
    }
   ],
   "source": [
    "game.get_actions()"
   ]
  },
  {
   "cell_type": "code",
   "execution_count": 12,
   "id": "d4e6d067-91e4-46fa-bb82-22ce212f936b",
   "metadata": {},
   "outputs": [
    {
     "name": "stdout",
     "output_type": "stream",
     "text": [
      "1\n"
     ]
    }
   ],
   "source": [
    "# how to solve\n",
    "game.do('go straight')\n",
    "game.do('enter house')\n",
    "game.do('check cupboard')\n",
    "print(game.reward)"
   ]
  },
  {
   "cell_type": "markdown",
   "id": "d960727a-e726-4f34-92ee-17f3f77d26f8",
   "metadata": {},
   "source": [
    "# random exploration"
   ]
  },
  {
   "cell_type": "code",
   "execution_count": 13,
   "id": "9bb8323c-05e2-49f5-ab91-90b83a56518e",
   "metadata": {},
   "outputs": [],
   "source": [
    "game = find_the_keys()\n",
    "steps = 900\n",
    "rewards_random = []\n",
    "rng = np.random.default_rng()\n",
    "for i in range(steps):\n",
    "    description = game.get_description()\n",
    "    actions = game.get_actions()\n",
    "    rewards_random.append(game.get_reward())\n",
    "    #print(description, reward)\n",
    "    if rewards_random[-1]:\n",
    "        # this only makes sense because of the specific game here\n",
    "        #print(\"You won! Reseting game.\")\n",
    "        game.reset()\n",
    "    else:\n",
    "        j = rng.integers(0, len(actions))\n",
    "        #print(\"do\", actions[j][0])\n",
    "        game.do(actions[j])"
   ]
  },
  {
   "cell_type": "code",
   "execution_count": 14,
   "id": "fddb3e10-6753-4002-b6c7-136203ea2493",
   "metadata": {},
   "outputs": [
    {
     "data": {
      "text/plain": [
       "9"
      ]
     },
     "execution_count": 14,
     "metadata": {},
     "output_type": "execute_result"
    }
   ],
   "source": [
    "sum(rewards_random)"
   ]
  },
  {
   "cell_type": "markdown",
   "id": "6066d718-1a98-4a00-b1f1-03e4e254a416",
   "metadata": {},
   "source": [
    "## q-learning"
   ]
  },
  {
   "cell_type": "code",
   "execution_count": 15,
   "id": "979d6652-8645-4c32-ac26-bc282b330014",
   "metadata": {
    "tags": []
   },
   "outputs": [],
   "source": [
    "# again the most naive way I could think of, see https://en.wikipedia.org/wiki/Q-learning\n",
    "agent = q_learner()\n",
    "game = find_the_keys()\n",
    "\n",
    "state = game.get_description()\n",
    "actions = game.get_actions()\n",
    "\n",
    "steps = 900\n",
    "rewards_q = []\n",
    "verbose=False\n",
    "agent.verbose=verbose\n",
    "\n",
    "for i in range(steps):\n",
    "    if verbose: print()\n",
    "    if verbose: print(\"step\", i, \"state\", state)\n",
    "    \n",
    "    action, action_q = agent.choose_action(state, actions)\n",
    "    \n",
    "    if verbose: print(\"do\", action)\n",
    "    game.do(action)\n",
    "    \n",
    "    new_state = game.get_description()\n",
    "    new_reward = game.get_reward()\n",
    "    new_actions = game.get_actions()\n",
    "    \n",
    "    if verbose: print(\"new reward\", new_reward, \"max new q\", max_new_q)\n",
    "    \n",
    "    agent.learn(state, action, action_q, new_state, new_reward, new_actions)\n",
    "    if verbose: print(\"q\", agent.q)\n",
    "    \n",
    "    rewards_q.append(new_reward)\n",
    "    \n",
    "    # this particular game should be reset after the reward is found\n",
    "    if new_reward:\n",
    "        game.reset()\n",
    "        new_state = game.get_description()\n",
    "        new_actions = game.get_actions()\n",
    "    \n",
    "    # prepare for next iteration\n",
    "    state = new_state\n",
    "    actions = new_actions  "
   ]
  },
  {
   "cell_type": "code",
   "execution_count": 16,
   "id": "a32d1071-53e3-4ee4-ade8-6a1fedf75033",
   "metadata": {},
   "outputs": [
    {
     "data": {
      "text/plain": [
       "268"
      ]
     },
     "execution_count": 16,
     "metadata": {},
     "output_type": "execute_result"
    }
   ],
   "source": [
    "sum(rewards_q)"
   ]
  },
  {
   "cell_type": "code",
   "execution_count": 17,
   "id": "7f40f4ed-4353-4171-a9e3-1c703917a333",
   "metadata": {},
   "outputs": [
    {
     "data": {
      "text/plain": [
       "<matplotlib.legend.Legend at 0x119e32740>"
      ]
     },
     "execution_count": 17,
     "metadata": {},
     "output_type": "execute_result"
    },
    {
     "data": {
      "image/png": "[encoded data removed]",
      "text/plain": [
       "<Figure size 640x480 with 1 Axes>"
      ]
     },
     "metadata": {},
     "output_type": "display_data"
    }
   ],
   "source": [
    "fig1 = plt.figure(num=1)\n",
    "ax1 = fig1.gca()\n",
    "ax1.plot(np.cumsum(rewards_random), label='random exploration')\n",
    "ax1.plot(np.cumsum(rewards_q), label='q learner')\n",
    "ax1.set_ylabel('total reward')\n",
    "ax1.set_xlabel('steps')\n",
    "ax1.legend()"
   ]
  },
  {
   "cell_type": "code",
   "execution_count": null,
   "id": "b0b849bf-1230-4e0c-aa5c-f103e0ce6eef",
   "metadata": {},
   "outputs": [],
   "source": []
  }
 ],
 "metadata": {
  "kernelspec": {
   "display_name": "Python 3 (ipykernel)",
   "language": "python",
   "name": "python3"
  },
  "language_info": {
   "codemirror_mode": {
    "name": "ipython",
    "version": 3
   },
   "file_extension": ".py",
   "mimetype": "text/x-python",
   "name": "python",
   "nbconvert_exporter": "python",
   "pygments_lexer": "ipython3",
   "version": "3.10.2"
  },
  "widgets": {
   "application/vnd.jupyter.widget-state+json": {
    "state": {},
    "version_major": 2,
    "version_minor": 0
   }
  }
 },
 "nbformat": 4,
 "nbformat_minor": 5
}
