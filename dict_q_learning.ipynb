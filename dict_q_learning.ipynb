{
 "cells": [
  {
   "cell_type": "code",
   "execution_count": 1,
   "id": "ed700c0f-0a84-4e64-9842-8d1556265948",
   "metadata": {},
   "outputs": [],
   "source": [
    "from typing import List\n",
    "import numpy as np\n",
    "import matplotlib.pyplot as plt"
   ]
  },
  {
   "cell_type": "code",
   "execution_count": 2,
   "id": "041b7b28-ba6f-4b4b-96ad-3194fe1d4d1b",
   "metadata": {},
   "outputs": [],
   "source": [
    "# toy example: you left the house and realise you don't have your keys. where are they?\n",
    "# this is the most naive an inefficient text adventure on purpose.\n",
    "\n",
    "#world = [('description', reward, [nested_world])]\n",
    "class find_the_keys():\n",
    "    \"A little test world to get going\"\n",
    "    def __init__(self):\n",
    "        self.world = (\n",
    "            'look around', 0, [\n",
    "                ('go left', 0, [\n",
    "                    ('climb tree', 0, []),\n",
    "                    ('search floor', 0, [\n",
    "                        ('lift stone', 0,[]),\n",
    "                        ('lift leaf', 0,[])\n",
    "                    ])\n",
    "                ]),\n",
    "                ('go straight', 0, [\n",
    "                    ('enter house', 0, [\n",
    "                        ('check cupboard', 1, []),\n",
    "                        ('check wardrobe', 0, [])\n",
    "                    ])\n",
    "                ]),\n",
    "                ('go right', 0, [\n",
    "                    ('check bike', 0, []), # bike is locked\n",
    "                    ('check mailbox', 0, [\n",
    "                        ('open first letter', 0, []),\n",
    "                        ('open second letter', 0, []),\n",
    "                        ('open third letter', 0, []),\n",
    "                    ])\n",
    "                ])\n",
    "            ]\n",
    "        )\n",
    "        self.reset()\n",
    "        \n",
    "        \n",
    "    def _get_state(self):\n",
    "        state = self.world\n",
    "        description = state[0]\n",
    "        reward = state[1]\n",
    "        actions = state[2]\n",
    "        for a in self.previous_actions:\n",
    "            description, reward, actions = actions[a]\n",
    "        return description, reward, actions\n",
    "    \n",
    "    def _set_state(self, previous_actions):\n",
    "        self.previous_actions = previous_actions\n",
    "        self.description, self.reward, self.actions = self._get_state()\n",
    "        \n",
    "    def reset(self):\n",
    "        self._set_state([])\n",
    "    \n",
    "    def get_description(self):\n",
    "        return self.description\n",
    "    \n",
    "    def get_reward(self):\n",
    "        return self.reward\n",
    "    \n",
    "    def get_actions(self):\n",
    "        return [(a[0], a[1]) for a in self.actions] + [('go back', 0)]\n",
    "    \n",
    "    def do(self, action):\n",
    "        if action == 'go back':\n",
    "            self._set_state(self.previous_actions[:-1])\n",
    "            return \"done\"\n",
    "        else:\n",
    "            for i, a in enumerate(game.get_actions()):\n",
    "                if a[0] == action:\n",
    "                    self._set_state(self.previous_actions + [i])\n",
    "                    return \"done\"\n",
    "        return \"impossible\""
   ]
  },
  {
   "cell_type": "code",
   "execution_count": 3,
   "id": "1e55f7b4-48cd-4cf7-85c9-e16614f741cc",
   "metadata": {},
   "outputs": [],
   "source": [
    "game = find_the_keys()"
   ]
  },
  {
   "cell_type": "code",
   "execution_count": 4,
   "id": "f3796b36-6426-4102-9b1c-7dfd90b4f57f",
   "metadata": {},
   "outputs": [
    {
     "data": {
      "text/plain": [
       "'look around'"
      ]
     },
     "execution_count": 4,
     "metadata": {},
     "output_type": "execute_result"
    }
   ],
   "source": [
    "game.get_description()"
   ]
  },
  {
   "cell_type": "code",
   "execution_count": 5,
   "id": "8d6a2643-d12b-4986-b0dd-e344338b82fb",
   "metadata": {},
   "outputs": [
    {
     "data": {
      "text/plain": [
       "0"
      ]
     },
     "execution_count": 5,
     "metadata": {},
     "output_type": "execute_result"
    }
   ],
   "source": [
    "game.get_reward()"
   ]
  },
  {
   "cell_type": "code",
   "execution_count": 6,
   "id": "2e544ea7-b84d-4c77-93b0-b3fe39e71456",
   "metadata": {},
   "outputs": [
    {
     "data": {
      "text/plain": [
       "[('go left', 0), ('go straight', 0), ('go right', 0), ('go back', 0)]"
      ]
     },
     "execution_count": 6,
     "metadata": {},
     "output_type": "execute_result"
    }
   ],
   "source": [
    "game.get_actions()"
   ]
  },
  {
   "cell_type": "code",
   "execution_count": 7,
   "id": "d88e9212-df51-4adf-a4b6-6fd5dbe9682a",
   "metadata": {},
   "outputs": [
    {
     "data": {
      "text/plain": [
       "'done'"
      ]
     },
     "execution_count": 7,
     "metadata": {},
     "output_type": "execute_result"
    }
   ],
   "source": [
    "game.do('go left')"
   ]
  },
  {
   "cell_type": "code",
   "execution_count": 8,
   "id": "28ef97e1-46e2-44ab-aa40-fbf8e936e444",
   "metadata": {},
   "outputs": [
    {
     "data": {
      "text/plain": [
       "[('climb tree', 0), ('search floor', 0), ('go back', 0)]"
      ]
     },
     "execution_count": 8,
     "metadata": {},
     "output_type": "execute_result"
    }
   ],
   "source": [
    "game.get_actions()"
   ]
  },
  {
   "cell_type": "code",
   "execution_count": 9,
   "id": "b854335d-a31a-4c3c-ba15-ffea8f9c9dda",
   "metadata": {},
   "outputs": [
    {
     "data": {
      "text/plain": [
       "'done'"
      ]
     },
     "execution_count": 9,
     "metadata": {},
     "output_type": "execute_result"
    }
   ],
   "source": [
    "game.do('go back')"
   ]
  },
  {
   "cell_type": "code",
   "execution_count": 10,
   "id": "e73f656b-96f4-4e74-8477-8d324bf6d3ee",
   "metadata": {},
   "outputs": [
    {
     "data": {
      "text/plain": [
       "[('go left', 0), ('go straight', 0), ('go right', 0), ('go back', 0)]"
      ]
     },
     "execution_count": 10,
     "metadata": {},
     "output_type": "execute_result"
    }
   ],
   "source": [
    "game.get_actions()"
   ]
  },
  {
   "cell_type": "code",
   "execution_count": 11,
   "id": "d4e6d067-91e4-46fa-bb82-22ce212f936b",
   "metadata": {},
   "outputs": [
    {
     "name": "stdout",
     "output_type": "stream",
     "text": [
      "1\n"
     ]
    }
   ],
   "source": [
    "# how to solve\n",
    "game.do('go straight')\n",
    "game.do('enter house')\n",
    "game.do('check cupboard')\n",
    "print(game.reward)"
   ]
  },
  {
   "cell_type": "code",
   "execution_count": 12,
   "id": "9bb8323c-05e2-49f5-ab91-90b83a56518e",
   "metadata": {},
   "outputs": [],
   "source": [
    "# random exploration\n",
    "game = find_the_keys()\n",
    "steps = 900\n",
    "rewards_random = []\n",
    "rng = np.random.default_rng()\n",
    "for i in range(steps):\n",
    "    description = game.get_description()\n",
    "    actions = game.get_actions()\n",
    "    rewards_random.append(game.get_reward())\n",
    "    #print(description, reward)\n",
    "    if rewards_random[-1]:\n",
    "        # this only makes sense because of the specific game here\n",
    "        #print(\"You won! Reseting game.\")\n",
    "        game._set_state([])\n",
    "    else:\n",
    "        j = rng.integers(0, len(actions))\n",
    "        #print(\"do\", actions[j][0])\n",
    "        game.do(actions[j][0])"
   ]
  },
  {
   "cell_type": "code",
   "execution_count": 13,
   "id": "fddb3e10-6753-4002-b6c7-136203ea2493",
   "metadata": {},
   "outputs": [
    {
     "data": {
      "text/plain": [
       "15"
      ]
     },
     "execution_count": 13,
     "metadata": {},
     "output_type": "execute_result"
    }
   ],
   "source": [
    "sum(rewards_random)"
   ]
  },
  {
   "cell_type": "code",
   "execution_count": 14,
   "id": "979d6652-8645-4c32-ac26-bc282b330014",
   "metadata": {
    "tags": []
   },
   "outputs": [],
   "source": [
    "# q-learning\n",
    "# again the most naive way I could think of, see https://en.wikipedia.org/wiki/Q-learning\n",
    "class q_learner():\n",
    "    \"\"\"Naive q-learning agent\n",
    "    \n",
    "    Implementing reward table \"q[state,action]\" as a key-value map\n",
    "    \"\"\"\n",
    "    def __init__(\n",
    "        self,\n",
    "        q_init:float = 1, # initial q > 0 incentivises exploration\n",
    "        learning_rate:float = .9, # \"alpha\"\n",
    "        discount_factor:float = .1, # \"gamma\"\n",
    "        p_explore:float = 0.01,\n",
    "        rng:np.random.Generator = np.random.default_rng() # allows to control randomness\n",
    "    ):\n",
    "        self.q = {} # the reward \"table\"\n",
    "        self.q_init = q_init\n",
    "        self.learning_rate = learning_rate\n",
    "        self.discount_factor = discount_factor\n",
    "        self.p_explore = p_explore\n",
    "        self.rng = rng\n",
    "        self.verbose = False\n",
    "    \n",
    "    def get_q_s(self,state:str, actions:list):\n",
    "        q_s = self.q.get(state, {})\n",
    "        q_s = {a[0]: self.q_init for a in actions} | q_s # fill q for missing actions\n",
    "        return q_s\n",
    "    \n",
    "    def choose_action(self, state, actions):\n",
    "        \"explore or choose action maximising q. returns action & q\"\n",
    "        q_s = self.get_q_s(state, actions)\n",
    "        if self.p_explore > self.rng.uniform():\n",
    "            if self.verbose: print(\"explore\")\n",
    "            j = self.rng.integers(0, len(actions))\n",
    "            action = actions[j][0]\n",
    "        else:\n",
    "            if self.verbose: print(\"exploit\")\n",
    "            if self.verbose: print(q_s)\n",
    "            action = max(q_s, key=q_s.get)\n",
    "        return action, q_s[action]\n",
    "    \n",
    "    def learn(self, state, action, action_q, new_state, new_state_q, new_actions):\n",
    "        max_new_q = max(agent.get_q_s(new_state, new_actions).values())\n",
    "        if verbose: print(\"q_sa\", action_q)\n",
    "        new_action_q = (\n",
    "            (1 - self.learning_rate) * action_q\n",
    "            + self.learning_rate * (new_state_q + self.discount_factor * max_new_q)\n",
    "        )\n",
    "        if state in self.q:\n",
    "            self.q[state].update({action: new_action_q})\n",
    "        else:\n",
    "            self.q[state] = {action: new_action_q}\n",
    "        if verbose: print(f\"new q\", self.q)\n",
    "\n",
    "\n",
    "agent = q_learner()\n",
    "game = find_the_keys()\n",
    "\n",
    "state = game.get_description()\n",
    "actions = game.get_actions()\n",
    "\n",
    "steps = 900\n",
    "rewards_q = []\n",
    "verbose=False\n",
    "agent.verbose=verbose\n",
    "\n",
    "for i in range(steps):\n",
    "    if verbose: print()\n",
    "    if verbose: print(\"step\", i, \"state\", state)\n",
    "    \n",
    "    action, action_q = agent.choose_action(state, actions)\n",
    "    \n",
    "    if verbose: print(\"do\", action)\n",
    "    game.do(action)\n",
    "    \n",
    "    new_state = game.get_description()\n",
    "    new_reward = game.get_reward()\n",
    "    new_actions = game.get_actions()\n",
    "    \n",
    "    #if verbose: print(\"new reward\", new_reward, \"max new q\", max_new_q)\n",
    "    \n",
    "    #qsl = agent.get_q_s(state, [a for a in actions if a[0]==action])\n",
    "    agent.learn(state, action, action_q, new_state, new_reward, new_actions)\n",
    "    if verbose: print(\"q\", agent.q)\n",
    "    \n",
    "    rewards_q.append(new_reward)\n",
    "    \n",
    "    # this particular game should be reset after the reward is found\n",
    "    if new_reward:\n",
    "        game.reset()\n",
    "        new_state = game.get_description()\n",
    "        new_actions = game.get_actions()\n",
    "    \n",
    "    # prepare for next iteration\n",
    "    state = new_state\n",
    "    actions = new_actions  "
   ]
  },
  {
   "cell_type": "code",
   "execution_count": 16,
   "id": "a32d1071-53e3-4ee4-ade8-6a1fedf75033",
   "metadata": {},
   "outputs": [
    {
     "data": {
      "text/plain": [
       "274"
      ]
     },
     "execution_count": 16,
     "metadata": {},
     "output_type": "execute_result"
    }
   ],
   "source": [
    "sum(rewards_q)"
   ]
  },
  {
   "cell_type": "code",
   "execution_count": 17,
   "id": "7f40f4ed-4353-4171-a9e3-1c703917a333",
   "metadata": {},
   "outputs": [
    {
     "data": {
      "text/plain": [
       "<matplotlib.legend.Legend at 0x11ae505b0>"
      ]
     },
     "execution_count": 17,
     "metadata": {},
     "output_type": "execute_result"
    },
    {
     "data": {
      "image/png": "[encoded data removed]",
      "text/plain": [
       "<Figure size 640x480 with 1 Axes>"
      ]
     },
     "metadata": {},
     "output_type": "display_data"
    }
   ],
   "source": [
    "fig1 = plt.figure(num=1)\n",
    "ax1 = fig1.gca()\n",
    "ax1.plot(np.cumsum(rewards_random), label='random exploration')\n",
    "ax1.plot(np.cumsum(rewards_q), label='q learner')\n",
    "ax1.set_ylabel('total reward')\n",
    "ax1.set_xlabel('steps')\n",
    "ax1.legend()"
   ]
  },
  {
   "cell_type": "code",
   "execution_count": null,
   "id": "b0b849bf-1230-4e0c-aa5c-f103e0ce6eef",
   "metadata": {},
   "outputs": [],
   "source": []
  }
 ],
 "metadata": {
  "kernelspec": {
   "display_name": "Python 3 (ipykernel)",
   "language": "python",
   "name": "python3"
  },
  "language_info": {
   "codemirror_mode": {
    "name": "ipython",
    "version": 3
   },
   "file_extension": ".py",
   "mimetype": "text/x-python",
   "name": "python",
   "nbconvert_exporter": "python",
   "pygments_lexer": "ipython3",
   "version": "3.10.2"
  },
  "widgets": {
   "application/vnd.jupyter.widget-state+json": {
    "state": {},
    "version_major": 2,
    "version_minor": 0
   }
  }
 },
 "nbformat": 4,
 "nbformat_minor": 5
}
